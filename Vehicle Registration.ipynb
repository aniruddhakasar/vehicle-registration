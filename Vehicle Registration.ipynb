{
 "cells": [
  {
   "cell_type": "code",
   "execution_count": 2,
   "id": "2cd5d4af",
   "metadata": {},
   "outputs": [
    {
     "name": "stdout",
     "output_type": "stream",
     "text": [
      "0179\n",
      "0269\n",
      "0359\n",
      "1259\n",
      "1349\n",
      "2789\n",
      "3689\n",
      "4589\n",
      "4679\n"
     ]
    }
   ],
   "source": [
    "a=[\"{:0>4}\".format(i) for i in range(9999)]\n",
    "total_value=0\n",
    "for i in a:\n",
    "    b=int(i)\n",
    "    if b%10==9:\n",
    "        con=str(i)\n",
    "        list1=list(con)\n",
    "        if list1[0]<list1[1] and list1[1]<list1[2] and list1[2]<list1[3]:\n",
    "            if list1[0]!=list1[1] and list1[1]!=list1[2] and list1[2]!=list1[3]:\n",
    "                    a=int(list1[0])\n",
    "                    b=int(list1[1])\n",
    "                    c=int(list1[2])\n",
    "                    d=int(list1[3])\n",
    "                    total=a+b+c+d\n",
    "                    con2=str(total)\n",
    "                    list2=list(con2)\n",
    "                    f=int(list2[0])\n",
    "                    g=int(list2[1])\n",
    "                    add=f+g\n",
    "                    if add==8:\n",
    "                        print(i)\n"
   ]
  },
  {
   "cell_type": "code",
   "execution_count": null,
   "id": "19e8b071",
   "metadata": {},
   "outputs": [],
   "source": []
  },
  {
   "cell_type": "code",
   "execution_count": null,
   "id": "a5ca796b",
   "metadata": {},
   "outputs": [],
   "source": []
  },
  {
   "cell_type": "code",
   "execution_count": null,
   "id": "e28ed869",
   "metadata": {},
   "outputs": [],
   "source": []
  }
 ],
 "metadata": {
  "kernelspec": {
   "display_name": "Python 3 (ipykernel)",
   "language": "python",
   "name": "python3"
  },
  "language_info": {
   "codemirror_mode": {
    "name": "ipython",
    "version": 3
   },
   "file_extension": ".py",
   "mimetype": "text/x-python",
   "name": "python",
   "nbconvert_exporter": "python",
   "pygments_lexer": "ipython3",
   "version": "3.9.12"
  }
 },
 "nbformat": 4,
 "nbformat_minor": 5
}
